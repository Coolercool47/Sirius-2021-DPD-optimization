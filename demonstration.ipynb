{
 "cells": [
  {
   "cell_type": "markdown",
   "metadata": {
    "id": "CoT4esNt1BU7"
   },
   "source": [
    "# Пример работы с моделями DPD\n",
    "\n",
    "В этом ноутбуке вводятся различные модели, в порядке увеличения сложности. Для каждой на примере работы простого алгоритма оптимизации проверяется её релевантность."
   ]
  },
  {
   "cell_type": "markdown",
   "metadata": {},
   "source": [
    "## Установка библиотек\n",
    "Чтобы приступить к работе, для начала нужно выполнить в консоли команду\n",
    "`` pip3 install -r requirements.txt ``.\n",
    "Далее, необходимо установить Graphviz следуя инструкциям [отсюда](https://graphviz.org/download/).\n",
    "\n",
    "Когда установка необходимых библиотек завершена, можем импортировать их в ноутбук:"
   ]
  },
  {
   "cell_type": "code",
   "execution_count": 1,
   "metadata": {
    "colab": {
     "base_uri": "https://localhost:8080/",
     "height": 36
    },
    "id": "wLf0VAKx1D3K",
    "outputId": "04481351-edb1-4c77-931f-801b20decb33"
   },
   "outputs": [],
   "source": [
    "# Таймер\n",
    "from timeit import default_timer\n",
    "\n",
    "# Вычислительные пакеты\n",
    "import torch\n",
    "from torch.autograd import Variable\n",
    "import torch_optimizer as optim\n",
    "import numpy as np\n",
    "\n",
    "# Блоки, из которых состоят модели\n",
    "from blocks import AFIR, Polynomial, Delay, Prod_cmp\n",
    "\n",
    "# Украшения жизни от стандартной библиотеки\n",
    "from tqdm.notebook import tqdm\n",
    "from collections import defaultdict\n",
    "\n",
    "# Для загрузки данных сигнала\n",
    "from scipy.io import loadmat\n",
    "\n",
    "# Графики\n",
    "import matplotlib.pyplot as plt"
   ]
  },
  {
   "cell_type": "markdown",
   "metadata": {},
   "source": [
    "Устанавливаем настройки генераторов случайных чисел, выставляем используемое вычислительное устройство"
   ]
  },
  {
   "cell_type": "code",
   "execution_count": 2,
   "metadata": {},
   "outputs": [],
   "source": [
    "np.random.seed(7)\n",
    "torch.backends.cudnn.benchmark = True\n",
    "torch.backends.cudnn.enabled = True\n",
    "torch.manual_seed(7)\n",
    "torch.cuda.manual_seed(7)\n",
    "\n",
    "cuda = torch.cuda.is_available()\n",
    "if cuda:\n",
    "    device = \"cuda:0\"\n",
    "else:\n",
    "    device = \"cpu:0\""
   ]
  },
  {
   "cell_type": "markdown",
   "metadata": {
    "id": "OJNBQw7yvZPh"
   },
   "source": [
    "## Вспомогательные процедуры"
   ]
  },
  {
   "cell_type": "markdown",
   "metadata": {},
   "source": [
    "Метрика качества normalized mean square error, которую мы будем измерять в децибелах:\n",
    "\n",
    "$$ NMSE(y, y^*) = 10 \\log_{10} \\left\\{ \n",
    "    \\frac{\\sum_{k=1}^m (y_k - y^*_k)^2}{\\sum_{k=1}^m x_k^2}\n",
    "\\right\\}\\text{ dB}$$"
   ]
  },
  {
   "cell_type": "code",
   "execution_count": 3,
   "metadata": {
    "id": "SwOErQU3jLZ7"
   },
   "outputs": [],
   "source": [
    "def NMSE(input_sample, discrepancy):\n",
    "    return 10. * torch.log10(\n",
    "        discrepancy.norm(dim=1).square().sum() /\n",
    "        input_sample.norm(dim=1).square().sum())"
   ]
  },
  {
   "cell_type": "code",
   "execution_count": 4,
   "metadata": {
    "id": "Kqaq62i5f8iw"
   },
   "outputs": [],
   "source": [
    "def update_log(log, iteration, db, loss, time):\n",
    "    log['iter'].append(iteration)\n",
    "    log['train_loss_db'].append(db.item())\n",
    "    log['train_loss'].append(loss.item())\n",
    "    log['time'].append(time)"
   ]
  },
  {
   "cell_type": "code",
   "execution_count": 5,
   "metadata": {
    "id": "pVuT0wQzVlgq"
   },
   "outputs": [],
   "source": [
    "def draw_spectrum(input_sample, desired, output=None):\n",
    "    \"\"\"\n",
    "    Графики спектральной плотности мощности (power spectral density).\n",
    "    Отображают спектральные характеристики исходного сигнала,\n",
    "    идеально преобразованного сигнала и нашего приближения.\n",
    "    \"\"\"\n",
    "    \n",
    "    # Все тензоры, представляющие сигнал, отдельно хранят действительную и комплексную части,\n",
    "    # поэтому мы суммируем их как (x[0, 0] + 1j * x[0, 1])\n",
    "    \n",
    "    plt.psd(input_sample.detach().cpu()[0, 0] + 1j * input_sample.detach().cpu()[0, 1], NFFT=2048, label=\"input\")\n",
    "    plt.psd(desired.detach().cpu()[0, 0] + 1j * desired.detach().cpu()[0, 1], NFFT=2048, label=\"desired\")\n",
    "    if output:\n",
    "        plt.psd(output.detach().cpu()[0, 0] + 1j * output.detach().cpu()[0, 1], NFFT=2048, label=\"output\")\n",
    "    \n",
    "    plt.legend()\n",
    "    plt.show()"
   ]
  },
  {
   "cell_type": "markdown",
   "metadata": {
    "id": "ekZgZN6Fz9PT"
   },
   "source": [
    "## Процедуры обучения и оценивания"
   ]
  },
  {
   "cell_type": "code",
   "execution_count": 6,
   "metadata": {},
   "outputs": [],
   "source": [
    "# Оптимизируемой функцией стандартно выбираем mean square error\n",
    "criterion = torch.nn.MSELoss()"
   ]
  },
  {
   "cell_type": "code",
   "execution_count": 7,
   "metadata": {
    "id": "kv9Ta7XbVzIQ"
   },
   "outputs": [],
   "source": [
    "def assess(X, Y, model, criterion=criterion, cuda=cuda, draw=False, save=None, report=True):\n",
    "    \"\"\"\n",
    "    Значения функции потерь criterion и метрики качества NMSE\n",
    "    при предыскажении целого отрезка сигнала X обученной моделью model\n",
    "    в сравнении с идеально предыскажённым сигналом Y.\n",
    "    \"\"\"\n",
    "    model.eval()\n",
    "    \n",
    "    with torch.no_grad():\n",
    "        input_sample = Variable(X).permute(2, 1, 0)\n",
    "        desired = Variable(Y).permute(2, 1, 0)\n",
    "\n",
    "        if cuda:\n",
    "            input_sample = input_sample.cuda()\n",
    "            desired = desired.cuda()\n",
    "\n",
    "        output = model(input_sample)\n",
    "        if draw:\n",
    "            draw_spectrum(input_sample, desired, output)\n",
    "            if save is not None:\n",
    "                plt.savefig(save + '.pdf')\n",
    "\n",
    "        loss = criterion(output, desired)\n",
    "        metric = NMSE(input_sample, output - desired)\n",
    "        if report:\n",
    "            print(f\"Loss = {loss}\\nNMSE = {metric}\")\n",
    "    \n",
    "    return metric, loss "
   ]
  },
  {
   "cell_type": "code",
   "execution_count": 8,
   "metadata": {
    "id": "8la_NvkOf8jT"
   },
   "outputs": [],
   "source": [
    "def train_epoch(train_set, model, optimizer, criterion=criterion, cuda=cuda):\n",
    "    \"\"\"\n",
    "    Обучаем модель model одним проходом по батчам, генерируемым train_set,\n",
    "    используя метод оптимизации optimizer.\n",
    "    \"\"\"\n",
    "    optimizer.zero_grad()\n",
    "    \n",
    "    for t, batch in enumerate(train_set):\n",
    "        \n",
    "        with torch.no_grad():\n",
    "            input_sample = Variable(batch[..., :1]).permute(2, 1, 0)\n",
    "            desired = Variable(batch[..., 1:]).permute(2, 1, 0)\n",
    "\n",
    "            if cuda:\n",
    "                input_sample = input_sample.cuda()\n",
    "                desired = desired.cuda()\n",
    "        \n",
    "        loss = criterion(model(input_sample), desired)\n",
    "        loss.backward()\n",
    "        \n",
    "        optimizer.step()\n",
    "        optimizer.zero_grad()"
   ]
  },
  {
   "cell_type": "code",
   "execution_count": 19,
   "metadata": {
    "id": "Y6jSRaD9f8j8"
   },
   "outputs": [],
   "source": [
    "def train(train_set, X, Y, model, optimizer, lr_scheduler, n_epochs, log_every=1):\n",
    "    \"\"\"\n",
    "    Запускаем модель model обучаться на n_epochs проходов по всем батчам,\n",
    "    используя метод оптимизации optimizer и менеджер размера шага lr_scheduler.\n",
    "    \"\"\"\n",
    "    log = defaultdict(list)\n",
    "    start_time = default_timer()\n",
    "    \n",
    "    db, loss = assess(X, Y, model)\n",
    "    update_log(log, 0, db, loss, 0.)\n",
    "    \n",
    "    for t in tqdm(range(n_epochs)):\n",
    "        model.train()\n",
    "        \n",
    "        train_epoch(train_set, model, optimizer)\n",
    "        if lr_scheduler:\n",
    "            lr_scheduler.step()\n",
    "\n",
    "        if (t + 1) % log_every == 0:\n",
    "            print(\"Epoch\", t + 1)\n",
    "            db, loss = assess(X, Y, model)\n",
    "            update_log(log, t, db, loss, default_timer() - start_time)\n",
    "    \n",
    "    return log"
   ]
  },
  {
   "cell_type": "code",
   "execution_count": 10,
   "metadata": {},
   "outputs": [],
   "source": [
    "def save_experiment(log, model, suffix=\"\"):\n",
    "    with open(\"log_\" + suffix + \".pickle\", 'wb') as logfile:\n",
    "        pickle.dump(log, logfile)\n",
    "\n",
    "    torch.save(model.state_dict(), \"model_\" + suffix + \".weights\")"
   ]
  },
  {
   "cell_type": "markdown",
   "metadata": {
    "id": "RZI9BVSMNHZA"
   },
   "source": [
    "## Загрузка данных сигнала"
   ]
  },
  {
   "cell_type": "code",
   "execution_count": 11,
   "metadata": {
    "id": "_KU0McmY8b5q"
   },
   "outputs": [],
   "source": [
    "filename = \"BlackBoxData_80\"\n",
    "\n",
    "# Размер одного батча при обучении\n",
    "batch_size = 1000\n",
    "\n",
    "mat = loadmat(filename)\n",
    "\n",
    "# Некоторая физически осмысленная предобработка сигнала\n",
    "x = np.array(mat['x']).reshape(-1, 1) / 2**15\n",
    "y = np.array(mat['y']).reshape(-1, 1) / 2**15\n",
    "\n",
    "# Разделение комплексных величин на действительную и мнимую части\n",
    "x_real, x_imag = torch.from_numpy(np.real(x)), torch.from_numpy(np.imag(x))\n",
    "y_real, y_imag = torch.from_numpy(np.real(y)), torch.from_numpy(np.imag(y))\n",
    "\n",
    "X = torch.DoubleTensor(torch.cat((x_real, x_imag), dim=1)).reshape(-1,2,1)\n",
    "Y = torch.DoubleTensor(torch.cat((y_real, y_imag), dim=1)).reshape(-1,2,1)\n",
    "\n",
    "# Генератор батчей\n",
    "train_set = torch.utils.data.DataLoader(torch.cat((X, Y), dim=-1), batch_size=batch_size)"
   ]
  },
  {
   "cell_type": "code",
   "execution_count": 12,
   "metadata": {},
   "outputs": [
    {
     "data": {
      "image/png": "[encoded data removed]",
      "text/plain": [
       "<Figure size 432x288 with 1 Axes>"
      ]
     },
     "metadata": {
      "needs_background": "light"
     },
     "output_type": "display_data"
    }
   ],
   "source": [
    "draw_spectrum(Variable(X).permute(2, 1, 0), Variable(Y).permute(2, 1, 0))"
   ]
  },
  {
   "cell_type": "markdown",
   "metadata": {
    "id": "Q-cZr6YFf8mg"
   },
   "source": [
    "## Модели DPD"
   ]
  },
  {
   "cell_type": "code",
   "execution_count": 13,
   "metadata": {
    "id": "3Ct7uQKLf8nm"
   },
   "outputs": [],
   "source": [
    "class Cell(torch.nn.Module):\n",
    "    \"\"\"\n",
    "    Элементарная ячейка для каскадной модели\n",
    "    в одном из наиболее простых видов.\n",
    "    Выходом является произведение свёртки сдвинутого сигнала\n",
    "    и свёртки нелинейно преобразованного сдвинутого сигнала. \n",
    "    \"\"\"\n",
    "    \n",
    "    def __init__(self, conv_size=15, delay=0, order=8):\n",
    "        super(Cell, self).__init__()\n",
    "        \n",
    "        # Свёртка для сигнала\n",
    "        self.fir_1 = AFIR(conv_size, 0)\n",
    "        \n",
    "        # Свёртка для нелинейно преобразованного сигнала\n",
    "        self.fir_2 = AFIR(conv_size, 0)\n",
    "        \n",
    "        # Общая задержка (сдвиг) сигнала\n",
    "        self.delay = Delay(delay)\n",
    "        \n",
    "        # Нелинейное преобразование (в частности, полином порядка order)\n",
    "        self.poly = Polynomial(order)\n",
    "        \n",
    "        # Модуль для покомпонентного произведения\n",
    "        self.prod = Prod_cmp()\n",
    "        \n",
    "    def forward(self, x):\n",
    "        out = self.delay(x)\n",
    "        return self.prod(self.fir_1(out), self.fir_2(self.poly(out)))"
   ]
  },
  {
   "cell_type": "code",
   "execution_count": 14,
   "metadata": {
    "id": "bCSKXLDBf8oL"
   },
   "outputs": [],
   "source": [
    "class Layer(torch.nn.Module):\n",
    "    \"\"\"\n",
    "    Однослойная модель с вариацией сдвигов сигнала.\n",
    "    Выходом является сумма преобразований сигнала, \n",
    "    полученных различно настроенными элементарными ячейками.\n",
    "    \"\"\"\n",
    "    \n",
    "    def __init__(self, delays, width):\n",
    "        super(Layer, self).__init__()\n",
    "        \n",
    "        self.cells = torch.nn.ModuleList()\n",
    "\n",
    "        for i in range(width):\n",
    "            self.cells.append(Cell(delay=delays[i]))\n",
    "\n",
    "    def forward(self, x):\n",
    "        out = torch.zeros_like(x)\n",
    "\n",
    "        for i in range(len(self.cells)):\n",
    "            out += self.cells[i](x)\n",
    "\n",
    "        return out"
   ]
  },
  {
   "cell_type": "code",
   "execution_count": 15,
   "metadata": {
    "id": "6J4NUzauf8o2"
   },
   "outputs": [],
   "source": [
    "class ResidualCascadeModel(torch.nn.Module):\n",
    "    \"\"\"\n",
    "    Каскадная модель с пропускающими связями.\n",
    "    Выходом является результат действия на сигнал\n",
    "    композиции преобразований, задаваемых различно настроенными слоями,\n",
    "    вместе с суммой этого результата и исходного сигнала.\n",
    "    \"\"\"\n",
    "    \n",
    "    def __init__(self, width, delays):\n",
    "        super(ResidualCascadeModel, self).__init__()\n",
    "        \n",
    "        self.layers = torch.nn.ModuleList()\n",
    "        \n",
    "        for delay in delays:\n",
    "            self.layers.append(Layer(delay, width))\n",
    "\n",
    "    def forward(self, x):\n",
    "        out = x.clone()\n",
    "        \n",
    "        for i in range(len(self.layers)):\n",
    "            # Пропускающая связь добавляет x к выходу каждого слоя.\n",
    "            # Возможна конфигурация с добавлением к выходу результата предыдущего слоя.\n",
    "            out = self.layers[i](out) + x\n",
    "        \n",
    "        return out"
   ]
  },
  {
   "cell_type": "markdown",
   "metadata": {},
   "source": [
    "## Оптимизация модели\n",
    "\n",
    "Ниже приводятся результаты запусков ряда различных стохастических методов для каскадной модели. Используются произвольно выбранные настройки гиперпараметров модели и алгоритмов. Также используется простейшая схема модификации размеров шага с уеличением номера эпохи."
   ]
  },
  {
   "cell_type": "code",
   "execution_count": 24,
   "metadata": {
    "id": "5iPBv-LihdV2",
    "scrolled": true
   },
   "outputs": [
    {
     "name": "stdout",
     "output_type": "stream",
     "text": [
      "Loss = 0.032283653969738736\n",
      "NMSE = 0.044426705659441776\n"
     ]
    },
    {
     "data": {
      "application/vnd.jupyter.widget-view+json": {
       "model_id": "f707c8e0d04d4eb08482220d391ecf71",
       "version_major": 2,
       "version_minor": 0
      },
      "text/plain": [
       "HBox(children=(HTML(value=''), FloatProgress(value=0.0, max=20.0), HTML(value='')))"
      ]
     },
     "metadata": {},
     "output_type": "display_data"
    },
    {
     "name": "stdout",
     "output_type": "stream",
     "text": [
      "Epoch 1\n",
      "Loss = 0.00011470612042806528\n",
      "NMSE = -24.449534217654374\n",
      "Epoch 2\n",
      "Loss = 5.2433192061734556e-05\n",
      "NMSE = -27.84933715360006\n",
      "Epoch 3\n",
      "Loss = 4.39449889373367e-05\n",
      "NMSE = -28.61630653659116\n",
      "Epoch 4\n",
      "Loss = 3.796848304455064e-05\n",
      "NMSE = -29.25116767026969\n",
      "Epoch 5\n",
      "Loss = 3.438194099745132e-05\n",
      "NMSE = -29.682096224429053\n",
      "Epoch 6\n",
      "Loss = 3.181817758009914e-05\n",
      "NMSE = -30.018647117931742\n",
      "Epoch 7\n",
      "Loss = 2.9127964340096496e-05\n",
      "NMSE = -30.402298788972537\n",
      "Epoch 8\n",
      "Loss = 2.6978608366984358e-05\n",
      "NMSE = -30.735204693640807\n",
      "Epoch 9\n",
      "Loss = 2.6009549528963696e-05\n",
      "NMSE = -30.894071826181655\n",
      "Epoch 10\n",
      "Loss = 2.5395031865988482e-05\n",
      "NMSE = -30.997912510157015\n",
      "Epoch 11\n",
      "Loss = 2.2226158864917325e-05\n",
      "NMSE = -31.576755989285594\n",
      "Epoch 12\n",
      "Loss = 2.1336009912539943e-05\n",
      "NMSE = -31.754268086869317\n",
      "Epoch 13\n",
      "Loss = 2.082800331461014e-05\n",
      "NMSE = -31.858923750203957\n",
      "Epoch 14\n",
      "Loss = 1.938204039448685e-05\n",
      "NMSE = -32.17140518781786\n",
      "Epoch 15\n",
      "Loss = 1.8007210484844366e-05\n",
      "NMSE = -32.490935721052196\n",
      "Epoch 16\n",
      "Loss = 1.7449109005861444e-05\n",
      "NMSE = -32.627667574145256\n",
      "Epoch 17\n",
      "Loss = 1.630496192869589e-05\n",
      "NMSE = -32.922202240521756\n",
      "Epoch 18\n",
      "Loss = 1.5499723304379853e-05\n",
      "NMSE = -33.14216067771714\n",
      "Epoch 19\n",
      "Loss = 1.5222423307696304e-05\n",
      "NMSE = -33.22056218431578\n",
      "Epoch 20\n",
      "Loss = 1.4949641000212172e-05\n",
      "NMSE = -33.2990924947468\n",
      "\n"
     ]
    }
   ],
   "source": [
    "model = ResidualCascadeModel(\n",
    "    width=5, \n",
    "    delays=[\n",
    "        [0, 1, 2, 3, 4],\n",
    "        [5, 6, 7, 8, 9],\n",
    "        [4, 3, 2, 1, 10]\n",
    "    ]).to(device)\n",
    "\n",
    "optimizer = torch.optim.Adam(model.parameters(), lr=1e-2)\n",
    "scheduler = torch.optim.lr_scheduler.StepLR(optimizer, step_size=5, gamma=0.9)\n",
    "\n",
    "adam_log = train(train_set, X, Y, model, optimizer, scheduler, n_epochs=20, log_every=1)"
   ]
  },
  {
   "cell_type": "code",
   "execution_count": 25,
   "metadata": {
    "scrolled": true
   },
   "outputs": [
    {
     "name": "stdout",
     "output_type": "stream",
     "text": [
      "Loss = 0.032283653969738736\n",
      "NMSE = 0.044426705659441776\n"
     ]
    },
    {
     "data": {
      "application/vnd.jupyter.widget-view+json": {
       "model_id": "4516f54edb1f45f9a3a3e9f4f1d1e6ac",
       "version_major": 2,
       "version_minor": 0
      },
      "text/plain": [
       "HBox(children=(HTML(value=''), FloatProgress(value=0.0, max=20.0), HTML(value='')))"
      ]
     },
     "metadata": {},
     "output_type": "display_data"
    },
    {
     "name": "stdout",
     "output_type": "stream",
     "text": [
      "Epoch 1\n",
      "Loss = 0.00016640291370742386\n",
      "NMSE = -22.833790866407107\n",
      "Epoch 2\n",
      "Loss = 9.82044081851811e-05\n",
      "NMSE = -25.124090303665593\n",
      "Epoch 3\n",
      "Loss = 7.27003809338296e-05\n",
      "NMSE = -26.43003326667039\n",
      "Epoch 4\n",
      "Loss = 6.30506061640689e-05\n",
      "NMSE = -27.048507469329408\n",
      "Epoch 5\n",
      "Loss = 5.541602833004547e-05\n",
      "NMSE = -27.6090461648762\n",
      "Epoch 6\n",
      "Loss = 4.1806059888348e-05\n",
      "NMSE = -28.833007747769074\n",
      "Epoch 7\n",
      "Loss = 4.057790508196828e-05\n",
      "NMSE = -28.962503912107202\n",
      "Epoch 8\n",
      "Loss = 3.980707418917743e-05\n",
      "NMSE = -29.045797549262403\n",
      "Epoch 9\n",
      "Loss = 4.3287442791437035e-05\n",
      "NMSE = -28.681780825430213\n",
      "Epoch 10\n",
      "Loss = 5.339892132632321e-05\n",
      "NMSE = -27.77007528895706\n",
      "Epoch 11\n",
      "Loss = 4.136192525821454e-05\n",
      "NMSE = -28.879392676377933\n",
      "Epoch 12\n",
      "Loss = 3.598267096443412e-05\n",
      "NMSE = -29.48446615605902\n",
      "Epoch 13\n",
      "Loss = 3.686626000841118e-05\n",
      "NMSE = -29.379109314069936\n",
      "Epoch 14\n",
      "Loss = 3.480376142083388e-05\n",
      "NMSE = -29.629138302254376\n",
      "Epoch 15\n",
      "Loss = 3.3347026360601233e-05\n",
      "NMSE = -29.8148290030609\n",
      "Epoch 16\n",
      "Loss = 4.265997317410822e-05\n",
      "NMSE = -28.745194351226644\n",
      "Epoch 17\n",
      "Loss = 3.831387933731188e-05\n",
      "NMSE = -29.21183885966431\n",
      "Epoch 18\n",
      "Loss = 3.171221189157225e-05\n",
      "NMSE = -30.03313478497055\n",
      "Epoch 19\n",
      "Loss = 3.27924646168955e-05\n",
      "NMSE = -29.88765954526723\n",
      "Epoch 20\n",
      "Loss = 2.900795948548939e-05\n",
      "NMSE = -30.420228329522242\n",
      "\n"
     ]
    }
   ],
   "source": [
    "model = ResidualCascadeModel(\n",
    "    width=5, \n",
    "    delays=[\n",
    "        [0, 1, 2, 3, 4],\n",
    "        [5, 6, 7, 8, 9],\n",
    "        [4, 3, 2, 1, 10]\n",
    "    ]).to(device)\n",
    "\n",
    "optimizer = torch.optim.RMSprop(model.parameters(), lr=5e-3)\n",
    "scheduler = torch.optim.lr_scheduler.StepLR(optimizer, step_size=5, gamma=0.9)\n",
    "\n",
    "rmsprop_log = train(train_set, X, Y, model, optimizer, scheduler, n_epochs=20, log_every=1)"
   ]
  },
  {
   "cell_type": "code",
   "execution_count": 26,
   "metadata": {
    "scrolled": true
   },
   "outputs": [
    {
     "name": "stdout",
     "output_type": "stream",
     "text": [
      "Loss = 0.032283653969738736\n",
      "NMSE = 0.044426705659441776\n"
     ]
    },
    {
     "data": {
      "application/vnd.jupyter.widget-view+json": {
       "model_id": "9e5d564184b14d6db56665f8e4d7a51f",
       "version_major": 2,
       "version_minor": 0
      },
      "text/plain": [
       "HBox(children=(HTML(value=''), FloatProgress(value=0.0, max=20.0), HTML(value='')))"
      ]
     },
     "metadata": {},
     "output_type": "display_data"
    },
    {
     "name": "stdout",
     "output_type": "stream",
     "text": [
      "Epoch 1\n",
      "Loss = 0.00020661493978388324\n",
      "NMSE = -21.89378292125707\n",
      "Epoch 2\n",
      "Loss = 9.670622768839356e-05\n",
      "NMSE = -25.190855704555947\n",
      "Epoch 3\n",
      "Loss = 5.845347699194731e-05\n",
      "NMSE = -27.37729663705624\n",
      "Epoch 4\n",
      "Loss = 4.9105935016897205e-05\n",
      "NMSE = -28.13406028361421\n",
      "Epoch 5\n",
      "Loss = 4.596789049803309e-05\n",
      "NMSE = -28.420854390398553\n",
      "Epoch 6\n",
      "Loss = 4.144520985596641e-05\n",
      "NMSE = -28.87065670130104\n",
      "Epoch 7\n",
      "Loss = 3.957194118710852e-05\n",
      "NMSE = -29.07152658192927\n",
      "Epoch 8\n",
      "Loss = 3.720787012840487e-05\n",
      "NMSE = -29.339052025084374\n",
      "Epoch 9\n",
      "Loss = 3.5306249431537054e-05\n",
      "NMSE = -29.566884280506855\n",
      "Epoch 10\n",
      "Loss = 3.365970654369585e-05\n",
      "NMSE = -29.774296878032338\n",
      "Epoch 11\n",
      "Loss = 3.1904871930034045e-05\n",
      "NMSE = -30.006830074865526\n",
      "Epoch 12\n",
      "Loss = 3.0642571327575164e-05\n",
      "NMSE = -30.18214807448151\n",
      "Epoch 13\n",
      "Loss = 2.9181335211770983e-05\n",
      "NMSE = -30.394348536881136\n",
      "Epoch 14\n",
      "Loss = 2.7902730833705556e-05\n",
      "NMSE = -30.588933034860503\n",
      "Epoch 15\n",
      "Loss = 2.6820710788975093e-05\n",
      "NMSE = -30.76069730016733\n",
      "Epoch 16\n",
      "Loss = 2.689679563713756e-05\n",
      "NMSE = -30.7483946993921\n",
      "Epoch 17\n",
      "Loss = 2.5499849086330686e-05\n",
      "NMSE = -30.98002402946467\n",
      "Epoch 18\n",
      "Loss = 2.4861768368095012e-05\n",
      "NMSE = -31.09007997232275\n",
      "Epoch 19\n",
      "Loss = 2.419864978013121e-05\n",
      "NMSE = -31.207488789514088\n",
      "Epoch 20\n",
      "Loss = 2.3866436117027947e-05\n",
      "NMSE = -31.267524408123464\n",
      "\n"
     ]
    }
   ],
   "source": [
    "model = ResidualCascadeModel(\n",
    "    width=5, \n",
    "    delays=[\n",
    "        [0, 1, 2, 3, 4],\n",
    "        [5, 6, 7, 8, 9],\n",
    "        [4, 3, 2, 1, 10]\n",
    "    ]).to(device)\n",
    "\n",
    "adam = torch.optim.Adam(model.parameters(), lr=1e-2)\n",
    "optimizer = optim.Lookahead(adam, k=5, alpha=0.5)\n",
    "scheduler = torch.optim.lr_scheduler.StepLR(optimizer, step_size=5, gamma=0.9)\n",
    "\n",
    "laadam_log = train(train_set, X, Y, model, optimizer, scheduler, n_epochs=20, log_every=1)"
   ]
  },
  {
   "cell_type": "code",
   "execution_count": 27,
   "metadata": {
    "scrolled": true
   },
   "outputs": [
    {
     "name": "stdout",
     "output_type": "stream",
     "text": [
      "Loss = 0.032283653969738736\n",
      "NMSE = 0.044426705659441776\n"
     ]
    },
    {
     "data": {
      "application/vnd.jupyter.widget-view+json": {
       "model_id": "f51dd66916734cc19356e3e2a9e10945",
       "version_major": 2,
       "version_minor": 0
      },
      "text/plain": [
       "HBox(children=(HTML(value=''), FloatProgress(value=0.0, max=20.0), HTML(value='')))"
      ]
     },
     "metadata": {},
     "output_type": "display_data"
    },
    {
     "name": "stdout",
     "output_type": "stream",
     "text": [
      "Epoch 1\n",
      "Loss = 0.0002688278011933131\n",
      "NMSE = -20.75065833278692\n",
      "Epoch 2\n",
      "Loss = 8.660327162509974e-05\n",
      "NMSE = -25.670057144019232\n",
      "Epoch 3\n",
      "Loss = 6.221337141013084e-05\n",
      "NMSE = -27.106562762687542\n",
      "Epoch 4\n",
      "Loss = 5.015770350638062e-05\n",
      "NMSE = -28.042023692341193\n",
      "Epoch 5\n",
      "Loss = 4.5651142650695876e-05\n",
      "NMSE = -28.45088360716613\n",
      "Epoch 6\n",
      "Loss = 4.234299653911535e-05\n",
      "NMSE = -28.777584241137927\n",
      "Epoch 7\n",
      "Loss = 4.010836809506621e-05\n",
      "NMSE = -29.013050211076795\n",
      "Epoch 8\n",
      "Loss = 3.874413050009596e-05\n",
      "NMSE = -29.163340942832136\n",
      "Epoch 9\n",
      "Loss = 3.730262843290152e-05\n",
      "NMSE = -29.32800578818137\n",
      "Epoch 10\n",
      "Loss = 3.496169741113072e-05\n",
      "NMSE = -29.609475034098182\n",
      "Epoch 11\n",
      "Loss = 3.4345670059182514e-05\n",
      "NMSE = -29.686680195722058\n",
      "Epoch 12\n",
      "Loss = 3.2314043047783934e-05\n",
      "NMSE = -29.95148713941922\n",
      "Epoch 13\n",
      "Loss = 3.0389973054594792e-05\n",
      "NMSE = -30.218096981275757\n",
      "Epoch 14\n",
      "Loss = 2.9471189229040497e-05\n",
      "NMSE = -30.351423521719155\n",
      "Epoch 15\n",
      "Loss = 2.877034859442831e-05\n",
      "NMSE = -30.45594889109903\n",
      "Epoch 16\n",
      "Loss = 2.714885106881901e-05\n",
      "NMSE = -30.70788558036153\n",
      "Epoch 17\n",
      "Loss = 2.6595566151399598e-05\n",
      "NMSE = -30.797307733677663\n",
      "Epoch 18\n",
      "Loss = 2.563091414136468e-05\n",
      "NMSE = -30.957759173144087\n",
      "Epoch 19\n",
      "Loss = 2.420127715522043e-05\n",
      "NMSE = -31.207017278676567\n",
      "Epoch 20\n",
      "Loss = 2.3152491022929993e-05\n",
      "NMSE = -31.399422886566214\n",
      "\n"
     ]
    }
   ],
   "source": [
    "model = ResidualCascadeModel(\n",
    "    width=5, \n",
    "    delays=[\n",
    "        [0, 1, 2, 3, 4],\n",
    "        [5, 6, 7, 8, 9],\n",
    "        [4, 3, 2, 1, 10]\n",
    "    ]).to(device)\n",
    "\n",
    "optimizer = optim.DiffGrad(\n",
    "    model.parameters(),\n",
    "    lr= 1e-2,\n",
    "    betas=(0.9, 0.999),\n",
    "    eps=1e-8,\n",
    "    weight_decay=0,\n",
    ")\n",
    "scheduler = torch.optim.lr_scheduler.StepLR(optimizer, step_size=5, gamma=0.9)\n",
    "\n",
    "diffgrad_log = train(train_set, X, Y, model, optimizer, scheduler, n_epochs=20, log_every=1)"
   ]
  },
  {
   "cell_type": "code",
   "execution_count": 28,
   "metadata": {
    "scrolled": true
   },
   "outputs": [
    {
     "name": "stdout",
     "output_type": "stream",
     "text": [
      "Loss = 0.032283653969738736\n",
      "NMSE = 0.044426705659441776\n"
     ]
    },
    {
     "data": {
      "application/vnd.jupyter.widget-view+json": {
       "model_id": "6deb7639d92d4012b6cc973e6abb14d6",
       "version_major": 2,
       "version_minor": 0
      },
      "text/plain": [
       "HBox(children=(HTML(value=''), FloatProgress(value=0.0, max=20.0), HTML(value='')))"
      ]
     },
     "metadata": {},
     "output_type": "display_data"
    },
    {
     "name": "stdout",
     "output_type": "stream",
     "text": [
      "Epoch 1\n",
      "Loss = 0.0008555935968879514\n",
      "NMSE = -15.722724874104415\n",
      "Epoch 2\n",
      "Loss = 0.000260947248663121\n",
      "NMSE = -20.879872909726437\n",
      "Epoch 3\n",
      "Loss = 8.748118568566922e-05\n",
      "NMSE = -25.626253524760383\n",
      "Epoch 4\n",
      "Loss = 5.997793965269416e-05\n",
      "NMSE = -27.265484702351216\n",
      "Epoch 5\n",
      "Loss = 5.040711653382662e-05\n",
      "NMSE = -28.02048158177375\n",
      "Epoch 6\n",
      "Loss = 4.3041702958030886e-05\n",
      "NMSE = -28.706505671473963\n",
      "Epoch 7\n",
      "Loss = 4.017114591889499e-05\n",
      "NMSE = -29.006257925805258\n",
      "Epoch 8\n",
      "Loss = 3.686827476946757e-05\n",
      "NMSE = -29.37887197627104\n",
      "Epoch 9\n",
      "Loss = 3.491651759694356e-05\n",
      "NMSE = -29.615090903572444\n",
      "Epoch 10\n",
      "Loss = 3.437699919820551e-05\n",
      "NMSE = -29.682720491219875\n",
      "Epoch 11\n",
      "Loss = 3.257922765888613e-05\n",
      "NMSE = -29.91599228668199\n",
      "Epoch 12\n",
      "Loss = 2.9943272221305513e-05\n",
      "NMSE = -30.282407545395344\n",
      "Epoch 13\n",
      "Loss = 2.797478531678431e-05\n",
      "NMSE = -30.577732507743963\n",
      "Epoch 14\n",
      "Loss = 2.708530934265909e-05\n",
      "NMSE = -30.718062130882213\n",
      "Epoch 15\n",
      "Loss = 2.6882288350805253e-05\n",
      "NMSE = -30.75073777929869\n",
      "Epoch 16\n",
      "Loss = 2.4566816586143093e-05\n",
      "NMSE = -31.141911297005432\n",
      "Epoch 17\n",
      "Loss = 2.440197767139961e-05\n",
      "NMSE = -31.171149877436616\n",
      "Epoch 18\n",
      "Loss = 2.5373055825821907e-05\n",
      "NMSE = -31.00167238137079\n",
      "Epoch 19\n",
      "Loss = 2.2513739210821924e-05\n",
      "NMSE = -31.520923820312184\n",
      "Epoch 20\n",
      "Loss = 2.0727286621447415e-05\n",
      "NMSE = -31.879975601744995\n",
      "\n"
     ]
    }
   ],
   "source": [
    "model = ResidualCascadeModel(\n",
    "    width=5, \n",
    "    delays=[\n",
    "        [0, 1, 2, 3, 4],\n",
    "        [5, 6, 7, 8, 9],\n",
    "        [4, 3, 2, 1, 10]\n",
    "    ]).to(device)\n",
    "\n",
    "optimizer = optim.RAdam(\n",
    "    model.parameters(),\n",
    "    lr= 1e-2,\n",
    "    betas=(0.9, 0.999),\n",
    "    eps=1e-8,\n",
    "    weight_decay=0,\n",
    ")\n",
    "scheduler = torch.optim.lr_scheduler.StepLR(optimizer, step_size=5, gamma=0.9)\n",
    "\n",
    "radam_log = train(train_set, X, Y, model, optimizer, scheduler, n_epochs=20, log_every=1)"
   ]
  },
  {
   "cell_type": "code",
   "execution_count": 29,
   "metadata": {
    "scrolled": true
   },
   "outputs": [
    {
     "name": "stdout",
     "output_type": "stream",
     "text": [
      "Loss = 0.032283653969738736\n",
      "NMSE = 0.044426705659441776\n"
     ]
    },
    {
     "data": {
      "application/vnd.jupyter.widget-view+json": {
       "model_id": "47acf326d32d451cac9b2bd9044115ad",
       "version_major": 2,
       "version_minor": 0
      },
      "text/plain": [
       "HBox(children=(HTML(value=''), FloatProgress(value=0.0, max=20.0), HTML(value='')))"
      ]
     },
     "metadata": {},
     "output_type": "display_data"
    },
    {
     "name": "stdout",
     "output_type": "stream",
     "text": [
      "Epoch 1\n",
      "Loss = 0.000579754704809281\n",
      "NMSE = -17.41295731439704\n",
      "Epoch 2\n",
      "Loss = 0.00024041763093842527\n",
      "NMSE = -21.23573699814088\n",
      "Epoch 3\n",
      "Loss = 0.00011971684245241034\n",
      "NMSE = -24.26384759393871\n",
      "Epoch 4\n",
      "Loss = 8.563761427298146e-05\n",
      "NMSE = -25.718754530975527\n",
      "Epoch 5\n",
      "Loss = 7.047137892972962e-05\n",
      "NMSE = -26.565272436178176\n",
      "Epoch 6\n",
      "Loss = 6.281695802431965e-05\n",
      "NMSE = -27.064631117229855\n",
      "Epoch 7\n",
      "Loss = 5.7892667443000866e-05\n",
      "NMSE = -27.419164527048025\n",
      "Epoch 8\n",
      "Loss = 5.445287595435308e-05\n",
      "NMSE = -27.68519190972896\n",
      "Epoch 9\n",
      "Loss = 5.188025235127481e-05\n",
      "NMSE = -27.895379332650645\n",
      "Epoch 10\n",
      "Loss = 4.9858071701268975e-05\n",
      "NMSE = -28.06804535314409\n",
      "Epoch 11\n",
      "Loss = 4.826939074568096e-05\n",
      "NMSE = -28.208681959328395\n",
      "Epoch 12\n",
      "Loss = 4.696976666289896e-05\n",
      "NMSE = -28.32721610444487\n",
      "Epoch 13\n",
      "Loss = 4.5842533342243036e-05\n",
      "NMSE = -28.43271403608614\n",
      "Epoch 14\n",
      "Loss = 4.485123963727522e-05\n",
      "NMSE = -28.52765562186795\n",
      "Epoch 15\n",
      "Loss = 4.39687992686008e-05\n",
      "NMSE = -28.61395407381049\n",
      "Epoch 16\n",
      "Loss = 4.315143557188139e-05\n",
      "NMSE = -28.69544764638291\n",
      "Epoch 17\n",
      "Loss = 4.2480736075445814e-05\n",
      "NMSE = -28.76347979859514\n",
      "Epoch 18\n",
      "Loss = 4.186195265368611e-05\n",
      "NMSE = -28.82720530967164\n",
      "Epoch 19\n",
      "Loss = 4.1288200952681465e-05\n",
      "NMSE = -28.887140533286324\n",
      "Epoch 20\n",
      "Loss = 4.07535098900092e-05\n",
      "NMSE = -28.943749949037798\n",
      "\n"
     ]
    }
   ],
   "source": [
    "model = ResidualCascadeModel(\n",
    "    width=5, \n",
    "    delays=[\n",
    "        [0, 1, 2, 3, 4],\n",
    "        [5, 6, 7, 8, 9],\n",
    "        [4, 3, 2, 1, 10]\n",
    "    ]).to(device)\n",
    "\n",
    "optimizer = optim.Yogi(\n",
    "    model.parameters(),\n",
    "    lr= 1e-2,\n",
    "    betas=(0.9, 0.999),\n",
    "    eps=1e-3,\n",
    "    initial_accumulator=1e-6,\n",
    "    weight_decay=0,\n",
    ")\n",
    "scheduler = torch.optim.lr_scheduler.StepLR(optimizer, step_size=5, gamma=0.9)\n",
    "\n",
    "yogi_log = train(train_set, X, Y, model, optimizer, scheduler, n_epochs=20, log_every=1)"
   ]
  },
  {
   "cell_type": "markdown",
   "metadata": {},
   "source": [
    "## Использование новых методов оптимизации"
   ]
  },
  {
   "cell_type": "code",
   "execution_count": 16,
   "metadata": {},
   "outputs": [],
   "source": [
    "# Добавляя в папку optimizer новый .py файл и регистрируя его в __init__.py,\n",
    "# получаем возможность импортировать и использовать новый метод оптимизации\n",
    "from optimizer import MADGRAD"
   ]
  },
  {
   "cell_type": "code",
   "execution_count": 20,
   "metadata": {
    "scrolled": true
   },
   "outputs": [
    {
     "name": "stdout",
     "output_type": "stream",
     "text": [
      "Loss = 0.032283653969738736\n",
      "NMSE = 0.044426705659441776\n"
     ]
    },
    {
     "data": {
      "application/vnd.jupyter.widget-view+json": {
       "model_id": "75e296d3b5bc401cace8940371388bee",
       "version_major": 2,
       "version_minor": 0
      },
      "text/plain": [
       "HBox(children=(HTML(value=''), FloatProgress(value=0.0, max=20.0), HTML(value='')))"
      ]
     },
     "metadata": {},
     "output_type": "display_data"
    },
    {
     "name": "stdout",
     "output_type": "stream",
     "text": [
      "Epoch 1\n",
      "Loss = 0.0002742130345629789\n",
      "NMSE = -20.664519182494928\n",
      "Epoch 2\n",
      "Loss = 7.938875336363799e-05\n",
      "NMSE = -26.047810308382463\n",
      "Epoch 3\n",
      "Loss = 5.60071600443225e-05\n",
      "NMSE = -27.56296461686546\n",
      "Epoch 4\n",
      "Loss = 4.811513739575702e-05\n",
      "NMSE = -28.222582828518334\n",
      "Epoch 5\n",
      "Loss = 4.370374602390749e-05\n",
      "NMSE = -28.640213494453125\n",
      "Epoch 6\n",
      "Loss = 4.1000834582012806e-05\n",
      "NMSE = -28.91747316158474\n",
      "Epoch 7\n",
      "Loss = 3.9338362851199115e-05\n",
      "NMSE = -29.097237312584603\n",
      "Epoch 8\n",
      "Loss = 3.79821127788257e-05\n",
      "NMSE = -29.249608941629095\n",
      "Epoch 9\n",
      "Loss = 3.662265636208153e-05\n",
      "NMSE = -29.407901712189073\n",
      "Epoch 10\n",
      "Loss = 3.525427813457798e-05\n",
      "NMSE = -29.573281866337577\n",
      "Epoch 11\n",
      "Loss = 3.3920201490376095e-05\n",
      "NMSE = -29.74081589780919\n",
      "Epoch 12\n",
      "Loss = 3.269292067017171e-05\n",
      "NMSE = -29.900862924884713\n",
      "Epoch 13\n",
      "Loss = 3.160081523724333e-05\n",
      "NMSE = -30.048417264546625\n",
      "Epoch 14\n",
      "Loss = 3.0628737900251595e-05\n",
      "NMSE = -30.184109116714886\n",
      "Epoch 15\n",
      "Loss = 2.9723849791562215e-05\n",
      "NMSE = -30.314349551915527\n",
      "Epoch 16\n",
      "Loss = 2.8858056467089346e-05\n",
      "NMSE = -30.442729342688395\n",
      "Epoch 17\n",
      "Loss = 2.8001456906688477e-05\n",
      "NMSE = -30.573593850079405\n",
      "Epoch 18\n",
      "Loss = 2.6666716492682918e-05\n",
      "NMSE = -30.78570469398379\n",
      "Epoch 19\n",
      "Loss = 2.5278214746330182e-05\n",
      "NMSE = -31.017936141451056\n",
      "Epoch 20\n",
      "Loss = 2.452449959703192e-05\n",
      "NMSE = -31.14939858430697\n",
      "\n"
     ]
    }
   ],
   "source": [
    "model = ResidualCascadeModel(\n",
    "    width=5, \n",
    "    delays=[\n",
    "        [0, 1, 2, 3, 4],\n",
    "        [5, 6, 7, 8, 9],\n",
    "        [4, 3, 2, 1, 10]\n",
    "    ]).to(device)\n",
    "\n",
    "optimizer = MADGRAD(model.parameters(), lr=1e-2)\n",
    "\n",
    "madgrad_log = train(train_set, X, Y, model, optimizer, lr_scheduler=None, n_epochs=20, log_every=1)"
   ]
  },
  {
   "cell_type": "code",
   "execution_count": 42,
   "metadata": {
    "id": "DZjabB0Mcxnc"
   },
   "outputs": [
    {
     "data": {
      "image/png": "[encoded data removed]",
      "text/plain": [
       "<Figure size 720x576 with 1 Axes>"
      ]
     },
     "metadata": {
      "needs_background": "light"
     },
     "output_type": "display_data"
    }
   ],
   "source": [
    "plt.figure(figsize=(10, 8))\n",
    "\n",
    "plt.plot(adam_log['iter'], adam_log['train_loss_db'], 'g-.', label=\"Adam (0.01)\")\n",
    "plt.plot(rmsprop_log['iter'], rmsprop_log['train_loss_db'], 'r--', label=\"RMSprop (0.005)\")\n",
    "plt.plot(laadam_log['iter'], laadam_log['train_loss_db'], 'b:', label=\"Lookahead(Adam) (0.01)\")\n",
    "plt.plot(diffgrad_log['iter'], diffgrad_log['train_loss_db'], 'k-.', label=\"DiffGrad (0.01)\")\n",
    "plt.plot(radam_log['iter'], radam_log['train_loss_db'], 'm--', label=\"RAdam (0.01)\")\n",
    "plt.plot(yogi_log['iter'], yogi_log['train_loss_db'], 'y', label=\"Yogi (0.01)\")\n",
    "plt.plot(madgrad_log['iter'], madgrad_log['train_loss_db'], 'c:', label=\"MADGRAD (0.01)\")\n",
    "\n",
    "plt.xlabel('Epochs')\n",
    "plt.ylabel('NMSE (dB)')\n",
    "plt.ylim(-35, -15)\n",
    "plt.grid(alpha=0.4)\n",
    "plt.legend()\n",
    "plt.show()"
   ]
  },
  {
   "cell_type": "code",
   "execution_count": null,
   "metadata": {},
   "outputs": [],
   "source": []
  }
 ],
 "metadata": {
  "accelerator": "GPU",
  "colab": {
   "collapsed_sections": [
    "CoT4esNt1BU7",
    "ekZgZN6Fz9PT",
    "-Tn0UO280EiC"
   ],
   "name": "school_bl_work.ipynb",
   "provenance": [],
   "toc_visible": true
  },
  "kernelspec": {
   "display_name": "Python 3",
   "language": "python",
   "name": "python3"
  },
  "language_info": {
   "codemirror_mode": {
    "name": "ipython",
    "version": 3
   },
   "file_extension": ".py",
   "mimetype": "text/x-python",
   "name": "python",
   "nbconvert_exporter": "python",
   "pygments_lexer": "ipython3",
   "version": "3.8.2"
  },
  "widgets": {
   "application/vnd.jupyter.widget-state+json": {
    "013de004677a4b138236bee3e2715c25": {
     "model_module": "@jupyter-widgets/base",
     "model_name": "LayoutModel",
     "state": {
      "_model_module": "@jupyter-widgets/base",
      "_model_module_version": "1.2.0",
      "_model_name": "LayoutModel",
      "_view_count": null,
      "_view_module": "@jupyter-widgets/base",
      "_view_module_version": "1.2.0",
      "_view_name": "LayoutView",
      "align_content": null,
      "align_items": null,
      "align_self": null,
      "border": null,
      "bottom": null,
      "display": null,
      "flex": null,
      "flex_flow": null,
      "grid_area": null,
      "grid_auto_columns": null,
      "grid_auto_flow": null,
      "grid_auto_rows": null,
      "grid_column": null,
      "grid_gap": null,
      "grid_row": null,
      "grid_template_areas": null,
      "grid_template_columns": null,
      "grid_template_rows": null,
      "height": null,
      "justify_content": null,
      "justify_items": null,
      "left": null,
      "margin": null,
      "max_height": null,
      "max_width": null,
      "min_height": null,
      "min_width": null,
      "object_fit": null,
      "object_position": null,
      "order": null,
      "overflow": null,
      "overflow_x": null,
      "overflow_y": null,
      "padding": null,
      "right": null,
      "top": null,
      "visibility": null,
      "width": null
     }
    },
    "0f40d7741ec24c0294a860424a235f2e": {
     "model_module": "@jupyter-widgets/base",
     "model_name": "LayoutModel",
     "state": {
      "_model_module": "@jupyter-widgets/base",
      "_model_module_version": "1.2.0",
      "_model_name": "LayoutModel",
      "_view_count": null,
      "_view_module": "@jupyter-widgets/base",
      "_view_module_version": "1.2.0",
      "_view_name": "LayoutView",
      "align_content": null,
      "align_items": null,
      "align_self": null,
      "border": null,
      "bottom": null,
      "display": null,
      "flex": null,
      "flex_flow": null,
      "grid_area": null,
      "grid_auto_columns": null,
      "grid_auto_flow": null,
      "grid_auto_rows": null,
      "grid_column": null,
      "grid_gap": null,
      "grid_row": null,
      "grid_template_areas": null,
      "grid_template_columns": null,
      "grid_template_rows": null,
      "height": null,
      "justify_content": null,
      "justify_items": null,
      "left": null,
      "margin": null,
      "max_height": null,
      "max_width": null,
      "min_height": null,
      "min_width": null,
      "object_fit": null,
      "object_position": null,
      "order": null,
      "overflow": null,
      "overflow_x": null,
      "overflow_y": null,
      "padding": null,
      "right": null,
      "top": null,
      "visibility": null,
      "width": null
     }
    },
    "1061c9d1978746bdadf28dda33eb9193": {
     "model_module": "@jupyter-widgets/base",
     "model_name": "LayoutModel",
     "state": {
      "_model_module": "@jupyter-widgets/base",
      "_model_module_version": "1.2.0",
      "_model_name": "LayoutModel",
      "_view_count": null,
      "_view_module": "@jupyter-widgets/base",
      "_view_module_version": "1.2.0",
      "_view_name": "LayoutView",
      "align_content": null,
      "align_items": null,
      "align_self": null,
      "border": null,
      "bottom": null,
      "display": null,
      "flex": null,
      "flex_flow": null,
      "grid_area": null,
      "grid_auto_columns": null,
      "grid_auto_flow": null,
      "grid_auto_rows": null,
      "grid_column": null,
      "grid_gap": null,
      "grid_row": null,
      "grid_template_areas": null,
      "grid_template_columns": null,
      "grid_template_rows": null,
      "height": null,
      "justify_content": null,
      "justify_items": null,
      "left": null,
      "margin": null,
      "max_height": null,
      "max_width": null,
      "min_height": null,
      "min_width": null,
      "object_fit": null,
      "object_position": null,
      "order": null,
      "overflow": null,
      "overflow_x": null,
      "overflow_y": null,
      "padding": null,
      "right": null,
      "top": null,
      "visibility": null,
      "width": null
     }
    },
    "1d2452e0432c4ff69203988af5400f68": {
     "model_module": "@jupyter-widgets/base",
     "model_name": "LayoutModel",
     "state": {
      "_model_module": "@jupyter-widgets/base",
      "_model_module_version": "1.2.0",
      "_model_name": "LayoutModel",
      "_view_count": null,
      "_view_module": "@jupyter-widgets/base",
      "_view_module_version": "1.2.0",
      "_view_name": "LayoutView",
      "align_content": null,
      "align_items": null,
      "align_self": null,
      "border": null,
      "bottom": null,
      "display": null,
      "flex": null,
      "flex_flow": null,
      "grid_area": null,
      "grid_auto_columns": null,
      "grid_auto_flow": null,
      "grid_auto_rows": null,
      "grid_column": null,
      "grid_gap": null,
      "grid_row": null,
      "grid_template_areas": null,
      "grid_template_columns": null,
      "grid_template_rows": null,
      "height": null,
      "justify_content": null,
      "justify_items": null,
      "left": null,
      "margin": null,
      "max_height": null,
      "max_width": null,
      "min_height": null,
      "min_width": null,
      "object_fit": null,
      "object_position": null,
      "order": null,
      "overflow": null,
      "overflow_x": null,
      "overflow_y": null,
      "padding": null,
      "right": null,
      "top": null,
      "visibility": null,
      "width": null
     }
    },
    "1d6bd6744d83441a8432145ccfe75e59": {
     "model_module": "@jupyter-widgets/controls",
     "model_name": "HBoxModel",
     "state": {
      "_dom_classes": [],
      "_model_module": "@jupyter-widgets/controls",
      "_model_module_version": "1.5.0",
      "_model_name": "HBoxModel",
      "_view_count": null,
      "_view_module": "@jupyter-widgets/controls",
      "_view_module_version": "1.5.0",
      "_view_name": "HBoxView",
      "box_style": "",
      "children": [
       "IPY_MODEL_59e393185abb44a7a860e8f64350f1cc",
       "IPY_MODEL_e030b623537e4d23b24aacf239974c7b"
      ],
      "layout": "IPY_MODEL_013de004677a4b138236bee3e2715c25"
     }
    },
    "22657c79d8cd411985e994d7138e90b2": {
     "model_module": "@jupyter-widgets/controls",
     "model_name": "HTMLModel",
     "state": {
      "_dom_classes": [],
      "_model_module": "@jupyter-widgets/controls",
      "_model_module_version": "1.5.0",
      "_model_name": "HTMLModel",
      "_view_count": null,
      "_view_module": "@jupyter-widgets/controls",
      "_view_module_version": "1.5.0",
      "_view_name": "HTMLView",
      "description": "",
      "description_tooltip": null,
      "layout": "IPY_MODEL_e0df09b166b5435ca5abbaa1a232c118",
      "placeholder": "​",
      "style": "IPY_MODEL_538b416b3b1c4a769b2ac13f13359b87",
      "value": " 20/20 [02:13&lt;00:00,  6.67s/it]"
     }
    },
    "3f0f2cd3ab5548d0bf26c1df4a96c5ea": {
     "model_module": "@jupyter-widgets/controls",
     "model_name": "HBoxModel",
     "state": {
      "_dom_classes": [],
      "_model_module": "@jupyter-widgets/controls",
      "_model_module_version": "1.5.0",
      "_model_name": "HBoxModel",
      "_view_count": null,
      "_view_module": "@jupyter-widgets/controls",
      "_view_module_version": "1.5.0",
      "_view_name": "HBoxView",
      "box_style": "",
      "children": [
       "IPY_MODEL_911a1478b6db4e9886dd4a40a0eb25ae",
       "IPY_MODEL_74d440fe59f1485092cae3a43788e6f2"
      ],
      "layout": "IPY_MODEL_d66f128c927d40eea24fdc6fa1fedd2e"
     }
    },
    "420accf720a340338a3c32da86ba6f5d": {
     "model_module": "@jupyter-widgets/controls",
     "model_name": "ProgressStyleModel",
     "state": {
      "_model_module": "@jupyter-widgets/controls",
      "_model_module_version": "1.5.0",
      "_model_name": "ProgressStyleModel",
      "_view_count": null,
      "_view_module": "@jupyter-widgets/base",
      "_view_module_version": "1.2.0",
      "_view_name": "StyleView",
      "bar_color": null,
      "description_width": "initial"
     }
    },
    "460100cf256c4907a1fd5fd9de727bc6": {
     "model_module": "@jupyter-widgets/controls",
     "model_name": "FloatProgressModel",
     "state": {
      "_dom_classes": [],
      "_model_module": "@jupyter-widgets/controls",
      "_model_module_version": "1.5.0",
      "_model_name": "FloatProgressModel",
      "_view_count": null,
      "_view_module": "@jupyter-widgets/controls",
      "_view_module_version": "1.5.0",
      "_view_name": "ProgressView",
      "bar_style": "success",
      "description": "100%",
      "description_tooltip": null,
      "layout": "IPY_MODEL_faec71516ba3402ca69d705c8a2e9116",
      "max": 100,
      "min": 0,
      "orientation": "horizontal",
      "style": "IPY_MODEL_f37fdbde4eff473f84ae7c87d116169c",
      "value": 100
     }
    },
    "4a4acfe801134660b3abb3b65c8db757": {
     "model_module": "@jupyter-widgets/controls",
     "model_name": "ProgressStyleModel",
     "state": {
      "_model_module": "@jupyter-widgets/controls",
      "_model_module_version": "1.5.0",
      "_model_name": "ProgressStyleModel",
      "_view_count": null,
      "_view_module": "@jupyter-widgets/base",
      "_view_module_version": "1.2.0",
      "_view_name": "StyleView",
      "bar_color": null,
      "description_width": "initial"
     }
    },
    "509ad979d999420eabaef60a1062aff7": {
     "model_module": "@jupyter-widgets/controls",
     "model_name": "HBoxModel",
     "state": {
      "_dom_classes": [],
      "_model_module": "@jupyter-widgets/controls",
      "_model_module_version": "1.5.0",
      "_model_name": "HBoxModel",
      "_view_count": null,
      "_view_module": "@jupyter-widgets/controls",
      "_view_module_version": "1.5.0",
      "_view_name": "HBoxView",
      "box_style": "",
      "children": [
       "IPY_MODEL_85dff49e8c5349afad29ba94cc669d53",
       "IPY_MODEL_a7e9dc06d369461c84409d1857a1a136"
      ],
      "layout": "IPY_MODEL_c7cd91a84d55429783171c7a67242234"
     }
    },
    "538b416b3b1c4a769b2ac13f13359b87": {
     "model_module": "@jupyter-widgets/controls",
     "model_name": "DescriptionStyleModel",
     "state": {
      "_model_module": "@jupyter-widgets/controls",
      "_model_module_version": "1.5.0",
      "_model_name": "DescriptionStyleModel",
      "_view_count": null,
      "_view_module": "@jupyter-widgets/base",
      "_view_module_version": "1.2.0",
      "_view_name": "StyleView",
      "description_width": ""
     }
    },
    "59e393185abb44a7a860e8f64350f1cc": {
     "model_module": "@jupyter-widgets/controls",
     "model_name": "FloatProgressModel",
     "state": {
      "_dom_classes": [],
      "_model_module": "@jupyter-widgets/controls",
      "_model_module_version": "1.5.0",
      "_model_name": "FloatProgressModel",
      "_view_count": null,
      "_view_module": "@jupyter-widgets/controls",
      "_view_module_version": "1.5.0",
      "_view_name": "ProgressView",
      "bar_style": "success",
      "description": "100%",
      "description_tooltip": null,
      "layout": "IPY_MODEL_1d2452e0432c4ff69203988af5400f68",
      "max": 2,
      "min": 0,
      "orientation": "horizontal",
      "style": "IPY_MODEL_420accf720a340338a3c32da86ba6f5d",
      "value": 2
     }
    },
    "5b8a8078b7dd4b9a95f4c7046bdc49a5": {
     "model_module": "@jupyter-widgets/controls",
     "model_name": "ProgressStyleModel",
     "state": {
      "_model_module": "@jupyter-widgets/controls",
      "_model_module_version": "1.5.0",
      "_model_name": "ProgressStyleModel",
      "_view_count": null,
      "_view_module": "@jupyter-widgets/base",
      "_view_module_version": "1.2.0",
      "_view_name": "StyleView",
      "bar_color": null,
      "description_width": "initial"
     }
    },
    "5bf48411b41c41e79cafe4689ee1cf50": {
     "model_module": "@jupyter-widgets/base",
     "model_name": "LayoutModel",
     "state": {
      "_model_module": "@jupyter-widgets/base",
      "_model_module_version": "1.2.0",
      "_model_name": "LayoutModel",
      "_view_count": null,
      "_view_module": "@jupyter-widgets/base",
      "_view_module_version": "1.2.0",
      "_view_name": "LayoutView",
      "align_content": null,
      "align_items": null,
      "align_self": null,
      "border": null,
      "bottom": null,
      "display": null,
      "flex": null,
      "flex_flow": null,
      "grid_area": null,
      "grid_auto_columns": null,
      "grid_auto_flow": null,
      "grid_auto_rows": null,
      "grid_column": null,
      "grid_gap": null,
      "grid_row": null,
      "grid_template_areas": null,
      "grid_template_columns": null,
      "grid_template_rows": null,
      "height": null,
      "justify_content": null,
      "justify_items": null,
      "left": null,
      "margin": null,
      "max_height": null,
      "max_width": null,
      "min_height": null,
      "min_width": null,
      "object_fit": null,
      "object_position": null,
      "order": null,
      "overflow": null,
      "overflow_x": null,
      "overflow_y": null,
      "padding": null,
      "right": null,
      "top": null,
      "visibility": null,
      "width": null
     }
    },
    "61d53f97e54249e890fe5c5c9662d306": {
     "model_module": "@jupyter-widgets/controls",
     "model_name": "DescriptionStyleModel",
     "state": {
      "_model_module": "@jupyter-widgets/controls",
      "_model_module_version": "1.5.0",
      "_model_name": "DescriptionStyleModel",
      "_view_count": null,
      "_view_module": "@jupyter-widgets/base",
      "_view_module_version": "1.2.0",
      "_view_name": "StyleView",
      "description_width": ""
     }
    },
    "66ec5f30676b4c12901cb8fb679b8cae": {
     "model_module": "@jupyter-widgets/controls",
     "model_name": "DescriptionStyleModel",
     "state": {
      "_model_module": "@jupyter-widgets/controls",
      "_model_module_version": "1.5.0",
      "_model_name": "DescriptionStyleModel",
      "_view_count": null,
      "_view_module": "@jupyter-widgets/base",
      "_view_module_version": "1.2.0",
      "_view_name": "StyleView",
      "description_width": ""
     }
    },
    "6a0b3469551641c4ab3764407c727d07": {
     "model_module": "@jupyter-widgets/controls",
     "model_name": "HBoxModel",
     "state": {
      "_dom_classes": [],
      "_model_module": "@jupyter-widgets/controls",
      "_model_module_version": "1.5.0",
      "_model_name": "HBoxModel",
      "_view_count": null,
      "_view_module": "@jupyter-widgets/controls",
      "_view_module_version": "1.5.0",
      "_view_name": "HBoxView",
      "box_style": "",
      "children": [
       "IPY_MODEL_fc87c40cc1a54477a415cc0b873dfc88",
       "IPY_MODEL_22657c79d8cd411985e994d7138e90b2"
      ],
      "layout": "IPY_MODEL_edd2dfd12fee4e7da2530b0b0deeadec"
     }
    },
    "6a6fe6c5926a433985489690cc394ae3": {
     "model_module": "@jupyter-widgets/controls",
     "model_name": "HTMLModel",
     "state": {
      "_dom_classes": [],
      "_model_module": "@jupyter-widgets/controls",
      "_model_module_version": "1.5.0",
      "_model_name": "HTMLModel",
      "_view_count": null,
      "_view_module": "@jupyter-widgets/controls",
      "_view_module_version": "1.5.0",
      "_view_name": "HTMLView",
      "description": "",
      "description_tooltip": null,
      "layout": "IPY_MODEL_6bdd14e8983746dea9f13096aa2f69f2",
      "placeholder": "​",
      "style": "IPY_MODEL_7ef90982eb504350b4c612d98a098b91",
      "value": " 100/100 [24:37&lt;00:00, 14.77s/it]"
     }
    },
    "6bdd14e8983746dea9f13096aa2f69f2": {
     "model_module": "@jupyter-widgets/base",
     "model_name": "LayoutModel",
     "state": {
      "_model_module": "@jupyter-widgets/base",
      "_model_module_version": "1.2.0",
      "_model_name": "LayoutModel",
      "_view_count": null,
      "_view_module": "@jupyter-widgets/base",
      "_view_module_version": "1.2.0",
      "_view_name": "LayoutView",
      "align_content": null,
      "align_items": null,
      "align_self": null,
      "border": null,
      "bottom": null,
      "display": null,
      "flex": null,
      "flex_flow": null,
      "grid_area": null,
      "grid_auto_columns": null,
      "grid_auto_flow": null,
      "grid_auto_rows": null,
      "grid_column": null,
      "grid_gap": null,
      "grid_row": null,
      "grid_template_areas": null,
      "grid_template_columns": null,
      "grid_template_rows": null,
      "height": null,
      "justify_content": null,
      "justify_items": null,
      "left": null,
      "margin": null,
      "max_height": null,
      "max_width": null,
      "min_height": null,
      "min_width": null,
      "object_fit": null,
      "object_position": null,
      "order": null,
      "overflow": null,
      "overflow_x": null,
      "overflow_y": null,
      "padding": null,
      "right": null,
      "top": null,
      "visibility": null,
      "width": null
     }
    },
    "74d440fe59f1485092cae3a43788e6f2": {
     "model_module": "@jupyter-widgets/controls",
     "model_name": "HTMLModel",
     "state": {
      "_dom_classes": [],
      "_model_module": "@jupyter-widgets/controls",
      "_model_module_version": "1.5.0",
      "_model_name": "HTMLModel",
      "_view_count": null,
      "_view_module": "@jupyter-widgets/controls",
      "_view_module_version": "1.5.0",
      "_view_name": "HTMLView",
      "description": "",
      "description_tooltip": null,
      "layout": "IPY_MODEL_d719eeae539d4a169150b2ff1ad035cd",
      "placeholder": "​",
      "style": "IPY_MODEL_ef25233d7cad4b1b834ed12c37cacd42",
      "value": " 20/20 [01:32&lt;00:00,  4.63s/it]"
     }
    },
    "7ef90982eb504350b4c612d98a098b91": {
     "model_module": "@jupyter-widgets/controls",
     "model_name": "DescriptionStyleModel",
     "state": {
      "_model_module": "@jupyter-widgets/controls",
      "_model_module_version": "1.5.0",
      "_model_name": "DescriptionStyleModel",
      "_view_count": null,
      "_view_module": "@jupyter-widgets/base",
      "_view_module_version": "1.2.0",
      "_view_name": "StyleView",
      "description_width": ""
     }
    },
    "85dff49e8c5349afad29ba94cc669d53": {
     "model_module": "@jupyter-widgets/controls",
     "model_name": "FloatProgressModel",
     "state": {
      "_dom_classes": [],
      "_model_module": "@jupyter-widgets/controls",
      "_model_module_version": "1.5.0",
      "_model_name": "FloatProgressModel",
      "_view_count": null,
      "_view_module": "@jupyter-widgets/controls",
      "_view_module_version": "1.5.0",
      "_view_name": "ProgressView",
      "bar_style": "success",
      "description": "100%",
      "description_tooltip": null,
      "layout": "IPY_MODEL_9bd079524862493b96de922aa26f8e96",
      "max": 20,
      "min": 0,
      "orientation": "horizontal",
      "style": "IPY_MODEL_c7221de3aff74cb0bba502530f4ae50c",
      "value": 20
     }
    },
    "911a1478b6db4e9886dd4a40a0eb25ae": {
     "model_module": "@jupyter-widgets/controls",
     "model_name": "FloatProgressModel",
     "state": {
      "_dom_classes": [],
      "_model_module": "@jupyter-widgets/controls",
      "_model_module_version": "1.5.0",
      "_model_name": "FloatProgressModel",
      "_view_count": null,
      "_view_module": "@jupyter-widgets/controls",
      "_view_module_version": "1.5.0",
      "_view_name": "ProgressView",
      "bar_style": "success",
      "description": "100%",
      "description_tooltip": null,
      "layout": "IPY_MODEL_5bf48411b41c41e79cafe4689ee1cf50",
      "max": 20,
      "min": 0,
      "orientation": "horizontal",
      "style": "IPY_MODEL_5b8a8078b7dd4b9a95f4c7046bdc49a5",
      "value": 20
     }
    },
    "9bd079524862493b96de922aa26f8e96": {
     "model_module": "@jupyter-widgets/base",
     "model_name": "LayoutModel",
     "state": {
      "_model_module": "@jupyter-widgets/base",
      "_model_module_version": "1.2.0",
      "_model_name": "LayoutModel",
      "_view_count": null,
      "_view_module": "@jupyter-widgets/base",
      "_view_module_version": "1.2.0",
      "_view_name": "LayoutView",
      "align_content": null,
      "align_items": null,
      "align_self": null,
      "border": null,
      "bottom": null,
      "display": null,
      "flex": null,
      "flex_flow": null,
      "grid_area": null,
      "grid_auto_columns": null,
      "grid_auto_flow": null,
      "grid_auto_rows": null,
      "grid_column": null,
      "grid_gap": null,
      "grid_row": null,
      "grid_template_areas": null,
      "grid_template_columns": null,
      "grid_template_rows": null,
      "height": null,
      "justify_content": null,
      "justify_items": null,
      "left": null,
      "margin": null,
      "max_height": null,
      "max_width": null,
      "min_height": null,
      "min_width": null,
      "object_fit": null,
      "object_position": null,
      "order": null,
      "overflow": null,
      "overflow_x": null,
      "overflow_y": null,
      "padding": null,
      "right": null,
      "top": null,
      "visibility": null,
      "width": null
     }
    },
    "a7e9dc06d369461c84409d1857a1a136": {
     "model_module": "@jupyter-widgets/controls",
     "model_name": "HTMLModel",
     "state": {
      "_dom_classes": [],
      "_model_module": "@jupyter-widgets/controls",
      "_model_module_version": "1.5.0",
      "_model_name": "HTMLModel",
      "_view_count": null,
      "_view_module": "@jupyter-widgets/controls",
      "_view_module_version": "1.5.0",
      "_view_name": "HTMLView",
      "description": "",
      "description_tooltip": null,
      "layout": "IPY_MODEL_f8031eac5ba14616ab4dedf495890be4",
      "placeholder": "​",
      "style": "IPY_MODEL_66ec5f30676b4c12901cb8fb679b8cae",
      "value": " 20/20 [02:50&lt;00:00,  8.54s/it]"
     }
    },
    "b3496b3c706f4c6d9ada6ee1978e2278": {
     "model_module": "@jupyter-widgets/base",
     "model_name": "LayoutModel",
     "state": {
      "_model_module": "@jupyter-widgets/base",
      "_model_module_version": "1.2.0",
      "_model_name": "LayoutModel",
      "_view_count": null,
      "_view_module": "@jupyter-widgets/base",
      "_view_module_version": "1.2.0",
      "_view_name": "LayoutView",
      "align_content": null,
      "align_items": null,
      "align_self": null,
      "border": null,
      "bottom": null,
      "display": null,
      "flex": null,
      "flex_flow": null,
      "grid_area": null,
      "grid_auto_columns": null,
      "grid_auto_flow": null,
      "grid_auto_rows": null,
      "grid_column": null,
      "grid_gap": null,
      "grid_row": null,
      "grid_template_areas": null,
      "grid_template_columns": null,
      "grid_template_rows": null,
      "height": null,
      "justify_content": null,
      "justify_items": null,
      "left": null,
      "margin": null,
      "max_height": null,
      "max_width": null,
      "min_height": null,
      "min_width": null,
      "object_fit": null,
      "object_position": null,
      "order": null,
      "overflow": null,
      "overflow_x": null,
      "overflow_y": null,
      "padding": null,
      "right": null,
      "top": null,
      "visibility": null,
      "width": null
     }
    },
    "b7ebeb119a38482d94a99f8b7e8bdc8b": {
     "model_module": "@jupyter-widgets/controls",
     "model_name": "HBoxModel",
     "state": {
      "_dom_classes": [],
      "_model_module": "@jupyter-widgets/controls",
      "_model_module_version": "1.5.0",
      "_model_name": "HBoxModel",
      "_view_count": null,
      "_view_module": "@jupyter-widgets/controls",
      "_view_module_version": "1.5.0",
      "_view_name": "HBoxView",
      "box_style": "",
      "children": [
       "IPY_MODEL_460100cf256c4907a1fd5fd9de727bc6",
       "IPY_MODEL_6a6fe6c5926a433985489690cc394ae3"
      ],
      "layout": "IPY_MODEL_0f40d7741ec24c0294a860424a235f2e"
     }
    },
    "c7221de3aff74cb0bba502530f4ae50c": {
     "model_module": "@jupyter-widgets/controls",
     "model_name": "ProgressStyleModel",
     "state": {
      "_model_module": "@jupyter-widgets/controls",
      "_model_module_version": "1.5.0",
      "_model_name": "ProgressStyleModel",
      "_view_count": null,
      "_view_module": "@jupyter-widgets/base",
      "_view_module_version": "1.2.0",
      "_view_name": "StyleView",
      "bar_color": null,
      "description_width": "initial"
     }
    },
    "c7cd91a84d55429783171c7a67242234": {
     "model_module": "@jupyter-widgets/base",
     "model_name": "LayoutModel",
     "state": {
      "_model_module": "@jupyter-widgets/base",
      "_model_module_version": "1.2.0",
      "_model_name": "LayoutModel",
      "_view_count": null,
      "_view_module": "@jupyter-widgets/base",
      "_view_module_version": "1.2.0",
      "_view_name": "LayoutView",
      "align_content": null,
      "align_items": null,
      "align_self": null,
      "border": null,
      "bottom": null,
      "display": null,
      "flex": null,
      "flex_flow": null,
      "grid_area": null,
      "grid_auto_columns": null,
      "grid_auto_flow": null,
      "grid_auto_rows": null,
      "grid_column": null,
      "grid_gap": null,
      "grid_row": null,
      "grid_template_areas": null,
      "grid_template_columns": null,
      "grid_template_rows": null,
      "height": null,
      "justify_content": null,
      "justify_items": null,
      "left": null,
      "margin": null,
      "max_height": null,
      "max_width": null,
      "min_height": null,
      "min_width": null,
      "object_fit": null,
      "object_position": null,
      "order": null,
      "overflow": null,
      "overflow_x": null,
      "overflow_y": null,
      "padding": null,
      "right": null,
      "top": null,
      "visibility": null,
      "width": null
     }
    },
    "d66f128c927d40eea24fdc6fa1fedd2e": {
     "model_module": "@jupyter-widgets/base",
     "model_name": "LayoutModel",
     "state": {
      "_model_module": "@jupyter-widgets/base",
      "_model_module_version": "1.2.0",
      "_model_name": "LayoutModel",
      "_view_count": null,
      "_view_module": "@jupyter-widgets/base",
      "_view_module_version": "1.2.0",
      "_view_name": "LayoutView",
      "align_content": null,
      "align_items": null,
      "align_self": null,
      "border": null,
      "bottom": null,
      "display": null,
      "flex": null,
      "flex_flow": null,
      "grid_area": null,
      "grid_auto_columns": null,
      "grid_auto_flow": null,
      "grid_auto_rows": null,
      "grid_column": null,
      "grid_gap": null,
      "grid_row": null,
      "grid_template_areas": null,
      "grid_template_columns": null,
      "grid_template_rows": null,
      "height": null,
      "justify_content": null,
      "justify_items": null,
      "left": null,
      "margin": null,
      "max_height": null,
      "max_width": null,
      "min_height": null,
      "min_width": null,
      "object_fit": null,
      "object_position": null,
      "order": null,
      "overflow": null,
      "overflow_x": null,
      "overflow_y": null,
      "padding": null,
      "right": null,
      "top": null,
      "visibility": null,
      "width": null
     }
    },
    "d719eeae539d4a169150b2ff1ad035cd": {
     "model_module": "@jupyter-widgets/base",
     "model_name": "LayoutModel",
     "state": {
      "_model_module": "@jupyter-widgets/base",
      "_model_module_version": "1.2.0",
      "_model_name": "LayoutModel",
      "_view_count": null,
      "_view_module": "@jupyter-widgets/base",
      "_view_module_version": "1.2.0",
      "_view_name": "LayoutView",
      "align_content": null,
      "align_items": null,
      "align_self": null,
      "border": null,
      "bottom": null,
      "display": null,
      "flex": null,
      "flex_flow": null,
      "grid_area": null,
      "grid_auto_columns": null,
      "grid_auto_flow": null,
      "grid_auto_rows": null,
      "grid_column": null,
      "grid_gap": null,
      "grid_row": null,
      "grid_template_areas": null,
      "grid_template_columns": null,
      "grid_template_rows": null,
      "height": null,
      "justify_content": null,
      "justify_items": null,
      "left": null,
      "margin": null,
      "max_height": null,
      "max_width": null,
      "min_height": null,
      "min_width": null,
      "object_fit": null,
      "object_position": null,
      "order": null,
      "overflow": null,
      "overflow_x": null,
      "overflow_y": null,
      "padding": null,
      "right": null,
      "top": null,
      "visibility": null,
      "width": null
     }
    },
    "e030b623537e4d23b24aacf239974c7b": {
     "model_module": "@jupyter-widgets/controls",
     "model_name": "HTMLModel",
     "state": {
      "_dom_classes": [],
      "_model_module": "@jupyter-widgets/controls",
      "_model_module_version": "1.5.0",
      "_model_name": "HTMLModel",
      "_view_count": null,
      "_view_module": "@jupyter-widgets/controls",
      "_view_module_version": "1.5.0",
      "_view_name": "HTMLView",
      "description": "",
      "description_tooltip": null,
      "layout": "IPY_MODEL_b3496b3c706f4c6d9ada6ee1978e2278",
      "placeholder": "​",
      "style": "IPY_MODEL_61d53f97e54249e890fe5c5c9662d306",
      "value": " 2/2 [02:48&lt;00:00, 84.15s/it]"
     }
    },
    "e0df09b166b5435ca5abbaa1a232c118": {
     "model_module": "@jupyter-widgets/base",
     "model_name": "LayoutModel",
     "state": {
      "_model_module": "@jupyter-widgets/base",
      "_model_module_version": "1.2.0",
      "_model_name": "LayoutModel",
      "_view_count": null,
      "_view_module": "@jupyter-widgets/base",
      "_view_module_version": "1.2.0",
      "_view_name": "LayoutView",
      "align_content": null,
      "align_items": null,
      "align_self": null,
      "border": null,
      "bottom": null,
      "display": null,
      "flex": null,
      "flex_flow": null,
      "grid_area": null,
      "grid_auto_columns": null,
      "grid_auto_flow": null,
      "grid_auto_rows": null,
      "grid_column": null,
      "grid_gap": null,
      "grid_row": null,
      "grid_template_areas": null,
      "grid_template_columns": null,
      "grid_template_rows": null,
      "height": null,
      "justify_content": null,
      "justify_items": null,
      "left": null,
      "margin": null,
      "max_height": null,
      "max_width": null,
      "min_height": null,
      "min_width": null,
      "object_fit": null,
      "object_position": null,
      "order": null,
      "overflow": null,
      "overflow_x": null,
      "overflow_y": null,
      "padding": null,
      "right": null,
      "top": null,
      "visibility": null,
      "width": null
     }
    },
    "edd2dfd12fee4e7da2530b0b0deeadec": {
     "model_module": "@jupyter-widgets/base",
     "model_name": "LayoutModel",
     "state": {
      "_model_module": "@jupyter-widgets/base",
      "_model_module_version": "1.2.0",
      "_model_name": "LayoutModel",
      "_view_count": null,
      "_view_module": "@jupyter-widgets/base",
      "_view_module_version": "1.2.0",
      "_view_name": "LayoutView",
      "align_content": null,
      "align_items": null,
      "align_self": null,
      "border": null,
      "bottom": null,
      "display": null,
      "flex": null,
      "flex_flow": null,
      "grid_area": null,
      "grid_auto_columns": null,
      "grid_auto_flow": null,
      "grid_auto_rows": null,
      "grid_column": null,
      "grid_gap": null,
      "grid_row": null,
      "grid_template_areas": null,
      "grid_template_columns": null,
      "grid_template_rows": null,
      "height": null,
      "justify_content": null,
      "justify_items": null,
      "left": null,
      "margin": null,
      "max_height": null,
      "max_width": null,
      "min_height": null,
      "min_width": null,
      "object_fit": null,
      "object_position": null,
      "order": null,
      "overflow": null,
      "overflow_x": null,
      "overflow_y": null,
      "padding": null,
      "right": null,
      "top": null,
      "visibility": null,
      "width": null
     }
    },
    "ef25233d7cad4b1b834ed12c37cacd42": {
     "model_module": "@jupyter-widgets/controls",
     "model_name": "DescriptionStyleModel",
     "state": {
      "_model_module": "@jupyter-widgets/controls",
      "_model_module_version": "1.5.0",
      "_model_name": "DescriptionStyleModel",
      "_view_count": null,
      "_view_module": "@jupyter-widgets/base",
      "_view_module_version": "1.2.0",
      "_view_name": "StyleView",
      "description_width": ""
     }
    },
    "f37fdbde4eff473f84ae7c87d116169c": {
     "model_module": "@jupyter-widgets/controls",
     "model_name": "ProgressStyleModel",
     "state": {
      "_model_module": "@jupyter-widgets/controls",
      "_model_module_version": "1.5.0",
      "_model_name": "ProgressStyleModel",
      "_view_count": null,
      "_view_module": "@jupyter-widgets/base",
      "_view_module_version": "1.2.0",
      "_view_name": "StyleView",
      "bar_color": null,
      "description_width": "initial"
     }
    },
    "f8031eac5ba14616ab4dedf495890be4": {
     "model_module": "@jupyter-widgets/base",
     "model_name": "LayoutModel",
     "state": {
      "_model_module": "@jupyter-widgets/base",
      "_model_module_version": "1.2.0",
      "_model_name": "LayoutModel",
      "_view_count": null,
      "_view_module": "@jupyter-widgets/base",
      "_view_module_version": "1.2.0",
      "_view_name": "LayoutView",
      "align_content": null,
      "align_items": null,
      "align_self": null,
      "border": null,
      "bottom": null,
      "display": null,
      "flex": null,
      "flex_flow": null,
      "grid_area": null,
      "grid_auto_columns": null,
      "grid_auto_flow": null,
      "grid_auto_rows": null,
      "grid_column": null,
      "grid_gap": null,
      "grid_row": null,
      "grid_template_areas": null,
      "grid_template_columns": null,
      "grid_template_rows": null,
      "height": null,
      "justify_content": null,
      "justify_items": null,
      "left": null,
      "margin": null,
      "max_height": null,
      "max_width": null,
      "min_height": null,
      "min_width": null,
      "object_fit": null,
      "object_position": null,
      "order": null,
      "overflow": null,
      "overflow_x": null,
      "overflow_y": null,
      "padding": null,
      "right": null,
      "top": null,
      "visibility": null,
      "width": null
     }
    },
    "faec71516ba3402ca69d705c8a2e9116": {
     "model_module": "@jupyter-widgets/base",
     "model_name": "LayoutModel",
     "state": {
      "_model_module": "@jupyter-widgets/base",
      "_model_module_version": "1.2.0",
      "_model_name": "LayoutModel",
      "_view_count": null,
      "_view_module": "@jupyter-widgets/base",
      "_view_module_version": "1.2.0",
      "_view_name": "LayoutView",
      "align_content": null,
      "align_items": null,
      "align_self": null,
      "border": null,
      "bottom": null,
      "display": null,
      "flex": null,
      "flex_flow": null,
      "grid_area": null,
      "grid_auto_columns": null,
      "grid_auto_flow": null,
      "grid_auto_rows": null,
      "grid_column": null,
      "grid_gap": null,
      "grid_row": null,
      "grid_template_areas": null,
      "grid_template_columns": null,
      "grid_template_rows": null,
      "height": null,
      "justify_content": null,
      "justify_items": null,
      "left": null,
      "margin": null,
      "max_height": null,
      "max_width": null,
      "min_height": null,
      "min_width": null,
      "object_fit": null,
      "object_position": null,
      "order": null,
      "overflow": null,
      "overflow_x": null,
      "overflow_y": null,
      "padding": null,
      "right": null,
      "top": null,
      "visibility": null,
      "width": null
     }
    },
    "fc87c40cc1a54477a415cc0b873dfc88": {
     "model_module": "@jupyter-widgets/controls",
     "model_name": "FloatProgressModel",
     "state": {
      "_dom_classes": [],
      "_model_module": "@jupyter-widgets/controls",
      "_model_module_version": "1.5.0",
      "_model_name": "FloatProgressModel",
      "_view_count": null,
      "_view_module": "@jupyter-widgets/controls",
      "_view_module_version": "1.5.0",
      "_view_name": "ProgressView",
      "bar_style": "success",
      "description": "100%",
      "description_tooltip": null,
      "layout": "IPY_MODEL_1061c9d1978746bdadf28dda33eb9193",
      "max": 20,
      "min": 0,
      "orientation": "horizontal",
      "style": "IPY_MODEL_4a4acfe801134660b3abb3b65c8db757",
      "value": 20
     }
    }
   }
  }
 },
 "nbformat": 4,
 "nbformat_minor": 1
}
